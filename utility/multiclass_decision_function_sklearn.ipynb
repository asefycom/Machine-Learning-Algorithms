{
  "nbformat": 4,
  "nbformat_minor": 0,
  "metadata": {
    "colab": {
      "provenance": [],
      "authorship_tag": "ABX9TyMCXrRvZJknqFlwaunOHuwu",
      "include_colab_link": true
    },
    "kernelspec": {
      "name": "python3",
      "display_name": "Python 3"
    },
    "language_info": {
      "name": "python"
    }
  },
  "cells": [
    {
      "cell_type": "markdown",
      "metadata": {
        "id": "view-in-github",
        "colab_type": "text"
      },
      "source": [
        "<a href=\"https://colab.research.google.com/github/asefycom/Machine-Learning-Algorithms/blob/main/utility/multiclass_decision_function_sklearn.ipynb\" target=\"_parent\"><img src=\"https://colab.research.google.com/assets/colab-badge.svg\" alt=\"Open In Colab\"/></a>"
      ]
    },
    {
      "cell_type": "markdown",
      "source": [
        "این کد مربوط به درس نهم از فصل سوم آموزش رایگان یادگیری ماشین بر اساس کتاب جرون است.\n",
        "# برای تماشای فیلم این درس به [این فهرست پخش](https://www.youtube.com/playlist?list=PL6h2BSS40Hh_UvcN1c7fII3GkvjsiLCTe) و فیلم شماره ۲۰ مراجعه کنید."
      ],
      "metadata": {
        "id": "Q1TjAEcmg9oz"
      }
    },
    {
      "cell_type": "code",
      "source": [
        "# ‌شیوه محاسبه سطح اطمینان در رده‌بندی یک به یک\n",
        "# این فایل را به صورت یک اسکریپت با بریک پوینت در خط ۹ اجرا کنید.\n",
        "confidences = [-8, -5, -6, 7, 9, -10]\n",
        "predictions = [1,   1,   1,   3,   4,   3]\n",
        "sum_of_confidences = [0, 0, 0, 0]\n",
        "#votes = ?\n",
        "\n",
        "k = 0\n",
        "for i in range(4):\n",
        "    for j in range(i + 1, 4):\n",
        "        sum_of_confidences[i] -= confidences[k]\n",
        "        sum_of_confidences[j] += confidences[k]\n",
        "        #votes???\n",
        "        k += 1\n",
        "\n",
        "print(sum_of_confidences)\n",
        "transformed_confidences = sum_of_confidences / (\n",
        "    3 * (np.abs(sum_of_confidences) + 1)\n",
        ")\n",
        "print(transformed_confidences)\n",
        "#print(votes + transformed_confidences)"
      ],
      "metadata": {
        "id": "iXibGQaQEbGV",
        "colab": {
          "base_uri": "https://localhost:8080/"
        },
        "outputId": "3e737af4-2f31-48e3-f4ad-64e2611e3639"
      },
      "execution_count": 4,
      "outputs": [
        {
          "output_type": "stream",
          "name": "stdout",
          "text": [
            "[19, -24, 12, -7]\n",
            "[ 0.31666667 -0.32        0.30769231 -0.29166667]\n"
          ]
        }
      ]
    }
  ]
}