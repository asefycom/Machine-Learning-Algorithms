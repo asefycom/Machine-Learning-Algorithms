{
  "nbformat": 4,
  "nbformat_minor": 0,
  "metadata": {
    "colab": {
      "provenance": [],
      "authorship_tag": "ABX9TyPP0gwMR7UdRHPl4+6wMVjY",
      "include_colab_link": true
    },
    "kernelspec": {
      "name": "python3",
      "display_name": "Python 3"
    },
    "language_info": {
      "name": "python"
    }
  },
  "cells": [
    {
      "cell_type": "markdown",
      "metadata": {
        "id": "view-in-github",
        "colab_type": "text"
      },
      "source": [
        "<a href=\"https://colab.research.google.com/github/asefycom/Machine-Learning-Algorithms/blob/main/utility/multiclass_decision_function_sklearn.ipynb\" target=\"_parent\"><img src=\"https://colab.research.google.com/assets/colab-badge.svg\" alt=\"Open In Colab\"/></a>"
      ]
    },
    {
      "cell_type": "markdown",
      "source": [
        "این کد مربوط به درس نهم از فصل سوم آموزش رایگان یادگیری ماشین بر اساس کتاب جرون است.\n",
        "# برای تماشای فیلم این درس به [این فهرست پخش](https://www.youtube.com/playlist?list=PL6h2BSS40Hh_UvcN1c7fII3GkvjsiLCTe) و فیلم شماره ۲۰ مراجعه کنید."
      ],
      "metadata": {
        "id": "Q1TjAEcmg9oz"
      }
    },
    {
      "cell_type": "code",
      "source": [
        "#Example for multiclass svc (ovo under the hood)\n",
        "import numpy as np\n",
        "X = np.array([[-10, -10], [-20, -10], [10, 10], [20, 10]])\n",
        "y = np.array([1, 4, 2, 3])\n",
        "from sklearn.svm import SVC\n",
        "clf = SVC(random_state=42)\n",
        "clf.fit(X, y)\n",
        "X_new = [[-10,-10]]\n",
        "print(clf.decision_function(X_new))\n",
        "print(clf.predict(X_new))\n",
        "clf.decision_function_shape = \"ovo\"\n",
        "print(clf.decision_function(X_new))"
      ],
      "metadata": {
        "colab": {
          "base_uri": "https://localhost:8080/"
        },
        "id": "S12FV82pi95y",
        "outputId": "d2408f9e-a2d4-4b01-fc1c-498abd255a8b"
      },
      "execution_count": 5,
      "outputs": [
        {
          "output_type": "stream",
          "name": "stdout",
          "text": [
            "[[ 3.2265795   0.80157869 -0.21343185  2.17671805]]\n",
            "[1]\n",
            "[[ 0.89829861  0.97562716  0.24852271  0.07732855 -0.6497759  -0.72710445]]\n"
          ]
        }
      ]
    },
    {
      "cell_type": "code",
      "source": [
        "# ‌Desicion function aggregation process (45 scores to 10 scores)\n",
        "# Run the code below as a script in a python debugger\n",
        "import numpy as np\n",
        "n_classes = 4\n",
        "confidences = [0.89829861, 0.97562716, 0.24852271, 0.07732855, -0.6497759, -0.727010445]\n",
        "predictions = [1,   1,   1,   2,   4,   4]\n",
        "sum_of_confidences = np.zeros(n_classes)\n",
        "#votes = ?\n",
        "\n",
        "k = 0\n",
        "# set a breakpoint at the line below\n",
        "for i in range(n_classes):\n",
        "    for j in range(i + 1, n_classes):\n",
        "        sum_of_confidences[i] -= confidences[k]\n",
        "        sum_of_confidences[j] += confidences[k]\n",
        "        #votes???\n",
        "        k += 1\n",
        "\n",
        "transformed_confidences = sum_of_confidences / (\n",
        "    3 * (np.abs(sum_of_confidences) + 1)\n",
        ")\n",
        "print(transformed_confidences)\n",
        "#print(votes + transformed_confidences)\n",
        "\"\"\"Since there is a \"-=\" operator in the for loop,\n",
        "it seems that the confidences array must be multiplied by -1\"\"\""
      ],
      "metadata": {
        "id": "iXibGQaQEbGV",
        "colab": {
          "base_uri": "https://localhost:8080/",
          "height": 53
        },
        "outputId": "4f2bba40-9f00-4550-d6ad-c178a73f18a0"
      },
      "execution_count": 7,
      "outputs": [
        {
          "output_type": "stream",
          "name": "stdout",
          "text": [
            "[-0.2265795   0.19842131  0.2134278  -0.17671113]\n"
          ]
        },
        {
          "output_type": "execute_result",
          "data": {
            "text/plain": [
              "'Since there is a \"-=\" operator in the for loop, \\nit seems that the confidences array must be multiplied by -1'"
            ],
            "application/vnd.google.colaboratory.intrinsic+json": {
              "type": "string"
            }
          },
          "metadata": {},
          "execution_count": 7
        }
      ]
    }
  ]
}